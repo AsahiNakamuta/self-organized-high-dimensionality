{
 "cells": [
  {
   "cell_type": "code",
   "execution_count": 1,
   "metadata": {},
   "outputs": [
    {
     "name": "stderr",
     "output_type": "stream",
     "text": [
      "/usr/local/lib/python3.8/dist-packages/geopandas/_compat.py:124: UserWarning: The Shapely GEOS version (3.11.4-CAPI-1.17.4) is incompatible with the GEOS version PyGEOS was compiled with (3.10.4-CAPI-1.16.2). Conversions between both will be slow.\n",
      "  warnings.warn(\n"
     ]
    }
   ],
   "source": [
    "import numpy as np\n",
    "import pickle\n",
    "from sklearn.linear_model import LinearRegression\n",
    "from scipy.spatial import distance_matrix\n",
    "from pysal.lib import weights\n",
    "from esda import Moran"
   ]
  },
  {
   "cell_type": "code",
   "execution_count": 11,
   "metadata": {},
   "outputs": [],
   "source": [
    "path = '/root/code/paper_public/data/10ms'\n",
    "\n",
    "with open(f\"{path}/date_all.pkl\",\"rb\") as f:\n",
    "    date_all = pickle.load(f)\n",
    "# with open(\"/root/code/paper_public/data/xy_all.pkl\",\"rb\") as f:\n",
    "#     xy_all = pickle.load(f)\n",
    "# with open(\"/root/code/paper_public/data/varspec_all.pkl\",\"rb\") as f:\n",
    "#     varspec_all = pickle.load(f)\n",
    "# with open(\"/root/code/paper_public/data/varspec_shuffle_all.pkl\",\"rb\") as f:\n",
    "#     varspec_shuffle_all = pickle.load(f)\n",
    "# with open(\"/root/code/paper_public/data/U_all.pkl\",\"rb\") as f:\n",
    "#     U_all = pickle.load(f)\n",
    "# with open(\"/root/code/paper_public/data/U_shuffle_all.pkl\",\"rb\") as f:\n",
    "#     U_shuffle_all = pickle.load(f)\n",
    "with open(f\"{path}/size_all.pkl\",\"rb\") as f:\n",
    "    size_all = pickle.load(f)\n",
    "with open(f\"{path}/duration_all.pkl\",\"rb\") as f:\n",
    "    duration_all = pickle.load(f)\n",
    "with open(f\"{path}/size_time_all.pkl\",\"rb\") as f:\n",
    "    size_time_all = pickle.load(f)\n",
    "with open(f\"{path}/duration_time_all.pkl\",\"rb\") as f:\n",
    "    duration_time_all = pickle.load(f)\n",
    "with open(f\"{path}/burstiness_all.pkl\",\"rb\") as f:\n",
    "    burstiness_all = pickle.load(f)"
   ]
  },
  {
   "cell_type": "code",
   "execution_count": 5,
   "metadata": {},
   "outputs": [],
   "source": [
    "## linear fitting in log-log scale (power fitting)\n",
    "def get_linear(x, y, yllim): # llim: lower limit for cutoff\n",
    "    n = len(x)\n",
    "\n",
    "    x_fit = np.zeros(n)\n",
    "    y_fit = np.zeros(n)\n",
    "    count = 0\n",
    "\n",
    "    for i in range(n):\n",
    "        if y[i] > yllim:\n",
    "            x_fit[count] = np.log10(x[i]+1)\n",
    "            y_fit[count] = np.log10(y[i])\n",
    "            count += 1\n",
    "                \n",
    "    model = LinearRegression()\n",
    "    model.fit(x_fit[:count].reshape(-1, 1), y_fit[:count])\n",
    "    a = model.coef_\n",
    "    b = model.intercept_\n",
    "    error = np.average((a*x_fit[:count]+b - y_fit[:count])**2) # mean squared error\n",
    "    return a, b, error\n",
    "    \n",
    "## generate histogram\n",
    "def get_hist(size, duration, size_max, dura_max, dura_dt):\n",
    "    size_hist = np.zeros(size_max)\n",
    "    for s in range(size_max):\n",
    "        size_hist[s] = np.sum(size == s)\n",
    "        if np.sum(size_hist[:s]) == len(size):\n",
    "            break\n",
    "    size_hist /= np.sum(size_hist)\n",
    "    \n",
    "    duration_hist = np.zeros(int(dura_max/dura_dt))\n",
    "    for i_d in range(int(dura_max/dura_dt)):\n",
    "        d = i_d*dura_dt\n",
    "        sum_temp = np.sum(duration_hist[:i_d])\n",
    "        duration_hist[i_d] = np.sum(duration < d+dura_dt) - sum_temp\n",
    "        if sum_temp == len(duration):\n",
    "            break\n",
    "    duration_hist /= np.sum(duration_hist)\n",
    "    \n",
    "    return size_hist, duration_hist"
   ]
  },
  {
   "cell_type": "markdown",
   "metadata": {},
   "source": [
    "generate histogram of cascade size and distribution (correspond to Fig.3a, b, c, e, f, g)"
   ]
  },
  {
   "cell_type": "code",
   "execution_count": 9,
   "metadata": {},
   "outputs": [],
   "source": [
    "size_hist_all = {} # histogram of cascade size\n",
    "duration_hist_all = {} # histogram of cascade duration\n",
    "size_max = 50000 # max. number of firing in one cascade\n",
    "dura_max = 10000 # max. duration [ms]\n",
    "dura_dt = 1 # [ms]\n",
    "\n",
    "for dish, date_list in date_all.items():\n",
    "    size_hist_dish = []\n",
    "    duration_hist_dish = []\n",
    "    \n",
    "    for d in range(len(date_list)):\n",
    "        size = np.array(size_time_all[dish][d])\n",
    "        duration = np.array(duration_time_all[dish][d])*1000 # [s] to [ms]\n",
    "        \n",
    "        size_hist, duration_hist = get_hist(size, duration, size_max, dura_max, dura_dt)\n",
    "        size_hist_dish.append(size_hist)\n",
    "        duration_hist_dish.append(duration_hist)\n",
    "        \n",
    "    size_hist_all[dish] = size_hist_dish\n",
    "    duration_hist_all[dish] = duration_hist_dish"
   ]
  },
  {
   "cell_type": "code",
   "execution_count": 10,
   "metadata": {},
   "outputs": [],
   "source": [
    "path = '/root/code/paper_public/result/10ms'\n",
    "\n",
    "with open(f\"{path}/size_time_hist_all.pkl\",\"wb\") as f:\n",
    "    pickle.dump(size_hist_all, f)\n",
    "with open(f\"{path}/duration_time_hist_all.pkl\",\"wb\") as f:\n",
    "    pickle.dump(duration_hist_all, f)"
   ]
  },
  {
   "cell_type": "markdown",
   "metadata": {},
   "source": [
    "Calculate exponent, intercept, and fitting error for power-law dimensionality and neuronal avelanche (correspond to Fig.1d, e, f, Fig3.b, c, g)"
   ]
  },
  {
   "cell_type": "code",
   "execution_count": 22,
   "metadata": {},
   "outputs": [],
   "source": [
    "Dim_abe_all = {} # {a: exponent, b: intercept, e: error} of power-law fitting to Variance spectre\n",
    "Dim_abe_shuffle_all = {} # {a: exponent, b: intercept, e: error} of power-law fitting to Variance spectre if shuffled data\n",
    "x_log = np.array([2,4,8,16,32,64,128,256])-1\n",
    "for dish, date_list in date_all.items():\n",
    "    if dish in varspec_all:\n",
    "        Dim_abe_dish = []\n",
    "        Dim_abe_shuffle_dish = []\n",
    "        for d in range(len(date_list)):\n",
    "            a, b, e = get_linear(x_log, varspec_all[dish][d][x_log], 0)\n",
    "            Dim_abe_dish.append([a, b, e])\n",
    "            \n",
    "            abe_temp = []\n",
    "            N_shuffle = len(varspec_shuffle_all[dish][d][:,0])\n",
    "            for i_shuffle in range(N_shuffle):\n",
    "                a, b, e = get_linear(x_log, varspec_shuffle_all[dish][d][i_shuffle,x_log], 0)\n",
    "                abe_temp.append([a, b, e])\n",
    "            Dim_abe_shuffle_dish.append(abe_temp)\n",
    "    Dim_abe_all[dish] = Dim_abe_dish\n",
    "    Dim_abe_shuffle_all[dish] = Dim_abe_shuffle_dish\n",
    "    \n",
    "\n",
    "NA_abe_all = {} # {a: exponent, b: intercept, e: error} of power-law fitting to Cascade size distribution\n",
    "for dish, date_list in date_all.items():\n",
    "    if dish in size_hist_all:\n",
    "        NA_abe_dish = []\n",
    "        for d in range(len(date_list)):\n",
    "            # 対数スケール\n",
    "            size_hist = size_hist_all[dish][d]\n",
    "            size_hist_interpolate = np.zeros(len(size_hist))\n",
    "            for j in np.arange(len(size_hist)-2,-1,-1):\n",
    "                if size_hist[j] == 0:\n",
    "                    size_hist_interpolate[j] = size_hist_interpolate[j+1]\n",
    "                else:\n",
    "                    size_hist_interpolate[j] = size_hist[j]\n",
    "                    \n",
    "            x_log = [int(x) for x in 2**np.arange(0,np.log2(np.count_nonzero(size_hist_interpolate)))]\n",
    "            a, b, e = get_linear(x_log, size_hist_interpolate[x_log], 0)\n",
    "            NA_abe_dish.append([a, b, e])\n",
    "            \n",
    "    NA_abe_all[dish] = NA_abe_dish"
   ]
  },
  {
   "cell_type": "code",
   "execution_count": 23,
   "metadata": {},
   "outputs": [],
   "source": [
    "with open(\"/root/code/paper_public/result/Dim_abe_all.pkl\",\"wb\") as f:\n",
    "    pickle.dump(Dim_abe_all, f)\n",
    "with open(\"/root/code/paper_public/result/Dim_abe_shuffle_all.pkl\",\"wb\") as f:\n",
    "    pickle.dump(Dim_abe_shuffle_all, f)\n",
    "with open(\"/root/code/paper_public/result/NA_abe_all.pkl\",\"wb\") as f:\n",
    "    pickle.dump(NA_abe_all, f)"
   ]
  },
  {
   "cell_type": "markdown",
   "metadata": {},
   "source": [
    "Calculate locality and locality slope (correspond to Fig.2c, d)"
   ]
  },
  {
   "cell_type": "code",
   "execution_count": 7,
   "metadata": {},
   "outputs": [
    {
     "name": "stderr",
     "output_type": "stream",
     "text": [
      "<ipython-input-7-bd8edb29ebee>:19: RuntimeWarning: invalid value encountered in divide\n",
      "  w_r = w_r / (np.sum(w_r, axis=1, keepdims=True))\n"
     ]
    }
   ],
   "source": [
    "locality_all = {}\n",
    "locality_shuffle_all = {}\n",
    "\n",
    "\n",
    "r = 200 # threshold distance [μm]\n",
    "thresh = 0.0001 # threshold local moran I \n",
    "N = 1024\n",
    "\n",
    "for dish, date_list in date_all.items():\n",
    "    if dish in U_all:\n",
    "        locality_dish = []\n",
    "        locality_shuffle_dish = []\n",
    "        for d in range(len(date_list)):\n",
    "            xy = xy_all[dish][d]\n",
    "            distance = distance_matrix(xy, xy)\n",
    "            w_r = np.zeros((N,N))\n",
    "            w_r[distance < r] = 1\n",
    "            np.fill_diagonal(w_r,0)\n",
    "            w_r = w_r / (np.sum(w_r, axis=1, keepdims=True))\n",
    "            \n",
    "            U = U_all[dish][d]\n",
    "            U_norm = U - np.mean(U, axis=0, keepdims=True)\n",
    "            local_moran_r = U_norm*(w_r@U_norm)\n",
    "            locality_dish.append(np.sum(local_moran_r > thresh,axis=0))\n",
    "            \n",
    "            locality_temp = []\n",
    "            N_shuffle = len(U_shuffle_all[dish][d][:,0,0])\n",
    "            for i_shuffle in range(N_shuffle):\n",
    "                U = U_shuffle_all[dish][d][i_shuffle,:,:]\n",
    "                U_norm = U - np.mean(U, axis=0, keepdims=True)\n",
    "                local_moran_r = U_norm*(w_r@U_norm)\n",
    "                locality_temp.append(np.sum(local_moran_r > thresh,axis=0))\n",
    "            \n",
    "            locality_shuffle_dish.append(locality_temp)\n",
    "        \n",
    "        locality_all[dish] = locality_dish\n",
    "        locality_shuffle_all[dish] = locality_shuffle_dish"
   ]
  },
  {
   "cell_type": "code",
   "execution_count": 40,
   "metadata": {},
   "outputs": [],
   "source": [
    "locality_slope_all = {}\n",
    "locality_slope_shuffle_all = {}\n",
    "\n",
    "N = 1024\n",
    "Nshuffle = 10\n",
    "window = 10\n",
    "x_fit = 2**np.arange(3,11)\n",
    "model = LinearRegression()\n",
    "\n",
    "for dish, date_list in date_all.items():\n",
    "    if dish in locality_all:\n",
    "        locality_slope_dish = []\n",
    "        locality_slope_shuffle_dish = []\n",
    "        for d in range(len(date_list)):\n",
    "            locality = locality_all[dish][d]\n",
    "            locality_shuffle = np.array(locality_shuffle_all[dish][d])\n",
    "            \n",
    "            locality_mvavg = np.zeros(len(locality))\n",
    "            locality_shuffle_mvavg = np.zeros(np.shape(locality_shuffle))\n",
    "            mvavg_counter = np.zeros(len(locality))\n",
    "            for w in range(window):\n",
    "                locality_mvavg[:N-w] += locality[w:]\n",
    "                locality_shuffle_mvavg[:,:N-w] += locality_shuffle[:,w:]\n",
    "                mvavg_counter[:N-w] += 1\n",
    "            locality_mvavg /= mvavg_counter\n",
    "            locality_shuffle_mvavg /= mvavg_counter\n",
    "            \n",
    "            model.fit(np.log10(x_fit).reshape(-1, 1), locality_mvavg[x_fit-1])\n",
    "            a,b = model.coef_, model.intercept_\n",
    "            locality_slope_dish.append(a)\n",
    "            \n",
    "            slope_temp = []\n",
    "            for i_shuffle in range(N_shuffle):\n",
    "                model.fit(np.log10(x_fit).reshape(-1, 1), locality_shuffle_mvavg[i_shuffle][x_fit-1])\n",
    "                a,b = model.coef_, model.intercept_\n",
    "                slope_temp.append(a)\n",
    "            locality_slope_shuffle_dish.append(slope_temp)\n",
    "            \n",
    "        locality_slope_all[dish] = locality_slope_dish\n",
    "        locality_slope_shuffle_all[dish] = locality_slope_shuffle_dish"
   ]
  },
  {
   "cell_type": "code",
   "execution_count": 46,
   "metadata": {},
   "outputs": [],
   "source": [
    "with open(\"/root/code/paper_public/result/locality_all.pkl\",\"wb\") as f:\n",
    "    pickle.dump(locality_all, f)\n",
    "with open(\"/root/code/paper_public/result/locality_shuffle_all.pkl\",\"wb\") as f:\n",
    "    pickle.dump(locality_shuffle_all, f)\n",
    "with open(\"/root/code/paper_public/result/locality_slope_all.pkl\",\"wb\") as f:\n",
    "    pickle.dump(locality_slope_all, f)\n",
    "with open(\"/root/code/paper_public/result/locality_slope_shuffle_all.pkl\",\"wb\") as f:\n",
    "    pickle.dump(locality_slope_shuffle_all, f)"
   ]
  }
 ],
 "metadata": {
  "kernelspec": {
   "display_name": "Python 3",
   "language": "python",
   "name": "python3"
  },
  "language_info": {
   "codemirror_mode": {
    "name": "ipython",
    "version": 3
   },
   "file_extension": ".py",
   "mimetype": "text/x-python",
   "name": "python",
   "nbconvert_exporter": "python",
   "pygments_lexer": "ipython3",
   "version": "3.8.5"
  }
 },
 "nbformat": 4,
 "nbformat_minor": 2
}
