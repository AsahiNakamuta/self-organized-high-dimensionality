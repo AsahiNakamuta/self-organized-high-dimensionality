{
 "cells": [
  {
   "cell_type": "code",
   "execution_count": 69,
   "metadata": {},
   "outputs": [],
   "source": [
    "from h5py import File\n",
    "import numpy as np\n",
    "import pandas as pd\n",
    "import pickle\n",
    "import matplotlib.pyplot as plt"
   ]
  },
  {
   "cell_type": "code",
   "execution_count": 47,
   "metadata": {},
   "outputs": [],
   "source": [
    "def get_avalanche(T, times):\n",
    "    size_list = []\n",
    "    duration_list = []\n",
    "    start_time_list = []\n",
    "    end_time_list = []\n",
    "    time_thr = 20*T/len(times)\n",
    "    size = 1\n",
    "    time_start = times[0]\n",
    "    i = 0\n",
    "    while i < len(times)-1:\n",
    "        if times[i+1] - times[i] < time_thr:\n",
    "            size += 1\n",
    "        else:\n",
    "            size_list.append(size)\n",
    "            duration_list.append(times[i] - time_start)\n",
    "            size = 1\n",
    "            time_start = times[i+1]\n",
    "            start_time_list.append(times[i+1])\n",
    "            end_time_list.append(times[i])\n",
    "        i += 1\n",
    "    return start_time_list, end_time_list, size_list"
   ]
  },
  {
   "cell_type": "code",
   "execution_count": 4,
   "metadata": {},
   "outputs": [],
   "source": [
    "with open(\"/root/code/paper_public/data/date_all.pkl\",\"rb\") as f:\n",
    "    date_all = pickle.load(f)\n",
    "with open(\"/root/code/paper_public/data/DIV_all.pkl\",\"rb\") as f:\n",
    "    DIV_all = pickle.load(f)"
   ]
  },
  {
   "cell_type": "code",
   "execution_count": 75,
   "metadata": {},
   "outputs": [
    {
     "name": "stdout",
     "output_type": "stream",
     "text": [
      "20.0\n",
      "[77, 126, 20, 96, 13, 316, 3, 99, 7]\n"
     ]
    },
    {
     "data": {
      "image/png": "[encoded data removed]",
      "text/plain": [
       "<Figure size 360x288 with 1 Axes>"
      ]
     },
     "metadata": {
      "needs_background": "light"
     },
     "output_type": "display_data"
    }
   ],
   "source": [
    "dish = \"23312\"\n",
    "DIV_list = DIV_all[dish]\n",
    "date_list = date_all[dish]\n",
    "\n",
    "raster_time_start = 3.8 # [s]\n",
    "raster_time_end = 3.9 # [s]\n",
    "i_plot = 15\n",
    "date = date_list[i_plot]\n",
    "DIV = DIV_list[i_plot]\n",
    "print(DIV)\n",
    "\n",
    "path = f'/mnt/cerebellum/akita/development/data/{dish}/{date}/record.raw.h5'\n",
    "record = File(path)\n",
    "T = (record['data_store/data0000/stop_time'][0] - record['data_store/data0000/start_time'][0])/1000\n",
    "N = 1024\n",
    "times = np.array(pd.DataFrame(np.array(record['data_store/data0000/spikes']))['frameno']/20000)\n",
    "times -= times[0]\n",
    "channs = np.array(pd.DataFrame(np.array(record['data_store/data0000/spikes']))['channel'])\n",
    "\n",
    "nspike_start = np.sum(times < raster_time_start)\n",
    "nspike_end = np.sum(times < raster_time_end)\n",
    "\n",
    "start_time_list, end_time_list, size_list = get_avalanche(raster_time_end-raster_time_start, times[nspike_start:nspike_end])\n",
    "\n",
    "\n",
    "fig, ax = plt.subplots(figsize=(5,4))\n",
    "\n",
    "ax.scatter(times[nspike_start:nspike_end],channs[nspike_start:nspike_end], c='#444444', s=10)\n",
    "for i in range(len(start_time_list)-1):\n",
    "    ax.plot([start_time_list[i]-0.0005,end_time_list[i+1]+0.001], [-50,-50],color='black')\n",
    "    ax.plot([start_time_list[i]-0.0005,start_time_list[i]-0.0005], [0,-50],color='black')\n",
    "    ax.plot([end_time_list[i+1]+0.001,end_time_list[i+1]+0.001], [0,-50],color='black')\n",
    "\n",
    "ax.set_xlim([3.81,3.89])\n",
    "ax.set_ylim([-200,1050])\n",
    "ax.spines['top'].set_visible(False)\n",
    "ax.spines['right'].set_visible(False)\n",
    "ax.set_yticks([0,1024])\n",
    "print(size_list)\n",
    "plt.savefig(\"/root/code/paper_public/figs/fig3A.eps\")"
   ]
  }
 ],
 "metadata": {
  "kernelspec": {
   "display_name": "Python 3",
   "language": "python",
   "name": "python3"
  },
  "language_info": {
   "codemirror_mode": {
    "name": "ipython",
    "version": 3
   },
   "file_extension": ".py",
   "mimetype": "text/x-python",
   "name": "python",
   "nbconvert_exporter": "python",
   "pygments_lexer": "ipython3",
   "version": "3.8.5"
  }
 },
 "nbformat": 4,
 "nbformat_minor": 2
}
